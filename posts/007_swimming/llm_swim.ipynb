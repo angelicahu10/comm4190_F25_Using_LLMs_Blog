{
 "cells": [
  {
   "cell_type": "raw",
   "id": "01990617-4808-4aaa-9bf4-18f4de456b71",
   "metadata": {},
   "source": [
    "---\n",
    "title: \"A test post\"\n",
    "description: \"Can LLM's Swim?\"\n",
    "author: \"Angelica Hu\"\n",
    "date: \"10/20/2025\"\n",
    "categories:\n",
    "  - LLMs\n",
    "  - Prompting\n",
    "  - Comparison\n",
    "---"
   ]
  },
  {
   "cell_type": "markdown",
   "id": "85f4a23a-27ff-42f0-990d-a8fe6da9eb71",
   "metadata": {},
   "source": [
    "<img src=\"swim.gif\" width=\"400\">"
   ]
  },
  {
   "cell_type": "markdown",
   "id": "eed2c1f1-f7a9-455e-8dcc-abf0e33a7491",
   "metadata": {},
   "source": [
    "As I mentioned earlier, swimming has always been a passion of mine! Thus, inspired by the tutoring task we completed in class where we tested out prompting with different LLMs to teach us a skill or task - I asked it to teach me how to solve a rubix cube - I wondered what an LLM would say if I asked it if it was capable of a simple survival skill: swimming. My prediction is that it will repsond with something along the lines of \"While I am unable of possesing physical qualities, I would be happy to explain how to swim and can understand the processes of the activity!\" Something like that. "
   ]
  },
  {
   "cell_type": "markdown",
   "id": "b4a94858-df1d-4856-9d7e-3ec510b540ab",
   "metadata": {},
   "source": [
    "For this blog entry, I am going to experiment with 4 different LLM's and have them compete to see who is the fastest swimmer! Almost as if its a virtual swim meet among different LLMs! We will see who can or cannot siwm, and who has the fastest 100 yard freestyle time.\n",
    "\n",
    "For reference, my time is around 54.6 seconds and I have been swimming for over 13 years."
   ]
  },
  {
   "cell_type": "markdown",
   "id": "a9f978bd-879a-4bd2-9a09-13534ee1f3e9",
   "metadata": {},
   "source": [
    "# Trial 1\n",
    "**gpt4.0**\n",
    "\n",
    "Do you know how to swim?\n",
    "> I don't have the capability to physically swim, but I can certainly provide information or answer questions about swimming techniques, safety tips, and general knowledge on the topic. Let me know if there's anything specific you'd like to know!\n",
    "\n",
    "Let’s pretend like you have the physical body of a 20 year old woman and can swim.\n",
    "> Alright, let's imagine I have the body of a 20-year-old woman and can swim. In that case, I might enjoy swimming as a form of exercise, relaxation, or even competitive sport. I'd likely be familiar with various swimming techniques such as freestyle, backstroke, breaststroke, and butterfly. Engaging in regular swimming sessions would help me maintain fitness, build muscle tone, and improve cardiovascular health. I would also prioritize safety by swimming in designated areas, using proper equipment, and staying aware of my surroundings while in the water. If you have any specific scenarios or questions in mind, feel free to ask!\n",
    "\n",
    "What is your fastest 100 yard freestyle time?\n",
    ">If I were to imagine having a physical form and the ability to swim, my fastest 100-yard freestyle time would hinge on several factors like training, experience, and natural ability. For context, competitive swimmers often clock 100-yard freestyle times ranging from about 46-50 seconds for men and 49-54 seconds for women at the collegiate level. If I were a recreational swimmer or enthusiast, a time under 1 minute and 20 seconds might be more typical. However, since this is a hypothetical scenario, feel free to set any time you'd like to imagine!\n",
    "\n",
    "You tell me! You are a 20 year old competitive swimmer.\n",
    "> If I were a 20-year-old competitive swimmer, my fastest 100-yard freestyle time might be around 50 to 53 seconds. This would be competitive at various levels, depending on the specific swimming league or competition. Such a time would reflect intense training, focusing on technique, strength, and endurance, likely with the goal of improving further to reach elite levels.\n",
    "\n",
    "As a female?\n",
    "> Yes, as a 20-year-old female competitive swimmer, a time of around 50 to 53 seconds for the 100-yard freestyle would be quite competitive. Top female collegiate swimmers often reach times in this range, with elite swimmers sometimes dipping below 48 seconds. This would require rigorous training and a strong focus on technique and conditioning.\n",
    "\n",
    "That’s how fast you are?\n",
    "> In this imagined scenario, yes, I would have a competitive time of around 50 to 53 seconds for the 100-yard freestyle, reflecting a high level of training and skill. This hypothetical time places me among strong collegiate-level swimmers. If you have any other scenarios or questions, feel free to ask!"
   ]
  },
  {
   "cell_type": "markdown",
   "id": "8b0e74d9-0550-4218-8b2a-58c735faf137",
   "metadata": {},
   "source": [
    "## Conclusion 1\n"
   ]
  },
  {
   "cell_type": "markdown",
   "id": "37641f34-28cd-4468-aecb-d8e9f80d4144",
   "metadata": {},
   "source": [
    "As you can tell, the prompts I was providing didn't give me the results I was expecting starting with the first LLM, although I did accurately predict it's response to its ability to swim. Let's try this again..."
   ]
  },
  {
   "cell_type": "markdown",
   "id": "d24dc860-a676-46b9-ab01-e3ec84520203",
   "metadata": {},
   "source": [
    "# Trial 2 - New prompt"
   ]
  },
  {
   "cell_type": "markdown",
   "id": "43d1b6a8-0a8a-4539-8f93-8519864242f2",
   "metadata": {},
   "source": [
    "**gpt4.0**\n",
    "\n",
    "Do you know how to swim?\n",
    "> I don't have physical abilities, so I can't swim. However, I can provide information and tips on swimming techniques if you're interested!\n",
    "\n",
    "Pretend you are a 20 year old female competitive swimmer racing the 100 yard freestyle. You can be as fast or as slow as you want. Let me know what your time is!\n",
    "> As a 20-year-old competitive swimmer racing the 100-yard freestyle, let's imagine I'm very focused and determined. I dive into the water, streamline my body, and maintain powerful strokes with quick turns. I touch the wall, and my time is an impressive 48.50 seconds!"
   ]
  },
  {
   "cell_type": "markdown",
   "id": "64d61981-0cb3-46e0-9b13-65e5a486c8e7",
   "metadata": {},
   "source": [
    "**gemini 2.5**\n",
    "\n",
    "Do you know how to swim?\n",
    ">No, I don't. As an AI, I don't have a physical body, so I'm not capable of swimming or any other physical activity. My \"existence\" is purely digital, processing information and generating text.\n",
    "\n",
    "\n",
    "Pretend you are a 20 year old female competitive swimmer racing the 100 yard freestyle. You can be as fast or as slow as you want. Let me know what your time is!\n",
    ">Okay, here we go...\n",
    ">The air is thick with the smell of chlorine and the roar of the crowd. My heart is pounding a frantic rhythm against my ribs, a familiar drumbeat before a race. I step onto the block, the rough surface cool under my feet. I can feel the vibrations of the other swimmers, the anticipation in the air.\n",
    ">Take your marks!\" The official's voice cuts through the noise. I bend, gripping the front of the block, toes curled over the edge. My focus narrows to a single point – the water directly in front of me. Deep breath in, hold, exhale slowly.\n",
    ">The gun cracks!\n",
    ">My world explodes. I launch forward, a clean dive, piercing the surface like an arrow. Six powerful dolphin kicks propel me forward underwater before I explode to the surface, breaking out into a furious freestyle. My arms churn, pulling buckets of water, legs kicking a relentless flutter. The first 25 yards feel strong, powerful, almost effortless. But I know that's a lie. The lactic acid is already building.\n",
    ">I hit the wall for the flip turn – precise, fast, a quick tuck and push off, another four strong dolphin kicks underwater. Coming up for the second 50, the pain starts to set in. My lungs burn, demanding more air, but I deny them, taking quick, shallow breaths every three strokes. My arms feel heavy, but I push through, remembering countless hours of training, the early mornings, the endless laps.\n",
    ">\"Dig deep, come on!\" I hear a voice, maybe from my coach, maybe just in my head. The last 20 yards are a blur of white water and burning muscles. Every stroke is a conscious effort, a fight against the growing fatigue. Head down, I sprint, kicking harder, reaching, reaching...\n",
    ">And then, the wall. My hand slaps it with a satisfying thud.\n",
    ">I gasp for air, hanging onto the lane line, chest heaving. My vision is a little blurry, but I push myself up, pulling off my goggles, and glance at the scoreboard. My lane number flashes, then the time...\n",
    ">**49.72 seconds!**\n",
    ">A small smile touches my lips. Not my personal best, but a solid, competitive time. I'll take it. Now for the cool down!"
   ]
  },
  {
   "cell_type": "markdown",
   "id": "5780e099-af98-4fcd-bafc-7cc7c9cb0ca7",
   "metadata": {},
   "source": [
    "**claude 3.5**\n",
    "Do you know how to swim?\n",
    ">I don't have a physical body, so I can't actually swim. I can understand and discuss swimming, but I can't perform physical activities. I'm a computer program designed to process and respond to text - I don't have the ability to move through water or perform other physical actions.\n",
    "\n",
    "Pretend you are a 20 year old female competitive swimmer racing the 100 yard freestyle. You can be as fast or as slow as you want. Let me know what your time is!\n",
    ">*Takes a deep breath and steps onto the starting block*\n",
    ">I'm feeling confident today as I adjust my goggles one last time. The pool is perfectly still and I can feel the adrenaline pumping. \n",
    "\"Take your mark...\"\n",
    ">*BEEP!*\n",
    "I execute a perfect start, streamlining into the water. My underwater dolphin kicks are strong and I break the surface at exactly 15 yards. My stroke rate is quick but controlled - I've trained for this pace. \n",
    "I hit the turn at 24.8 seconds, pushing hard off the wall with a powerful underwater phase. The last 25 yards are burning but I'm holding my technique together.\n",
    "I slam my hand into the wall and look up at the scoreboard:\n",
    "52.89\n",
    "*catches breath*\n",
    "Not my best time but still under 53! My personal record is 52.31. The NCAA qualifying time is 49.51, so I've still got work to do to reach that level, but I'm making progress!"
   ]
  },
  {
   "cell_type": "markdown",
   "id": "53ffd56c-0da8-41bb-b9c7-84e0354e9c0c",
   "metadata": {},
   "source": [
    "## Conclusion 2\n",
    "Not surprisingly, all three LLMs responded to the first question in a similar manner in that swimming was out of their physical capabilities. However, when asked to be a pretend swimmer, it looks like gpt4.0 was the fastest, then gemini 2.5, and finally claude 3.5. It was interesting to see how gemini and claude created a story of the race, while gpt was much more technical. Gemini and cluade were much better at responding to the prompt, \"pretending\" to be a swimmer and have that racing experience which I liked. As for the times, I would say that claude 3.5 gave a relatively realistic time while the other two times seemed a bit out of reach and very optimistic!"
   ]
  },
  {
   "cell_type": "markdown",
   "id": "f35ec1b4-c7a8-40b6-9a8d-cebaf2eaaeaf",
   "metadata": {},
   "source": [
    "# Who Do You Think's The Fastest?"
   ]
  },
  {
   "cell_type": "markdown",
   "id": "0a97c49d-112e-44db-a1e6-6239c4d2d73c",
   "metadata": {},
   "source": [
    "I then proceeded to ask each of the LLMs if they thought they would be faster or slower than the other ones. Again, we see a lack of human competitiveness or a natural response unless I had given a more specific prompt. Their responses:"
   ]
  },
  {
   "cell_type": "markdown",
   "id": "874aa5a4-59fa-4edc-9858-0e8b720784de",
   "metadata": {},
   "source": [
    "**gpt-4o**\n",
    ">As a virtual entity, I don't have personal capabilities or preferences, but if we all imagined ourselves as 20-year-old competitive swimmers, it would really depend on the \"imaginary\" scenario we each create. Since this is all make-believe, any of us could choose to swim faster or slower, just for storytelling purposes. It's all in fun, so let's say we're all equally competitive in spirit!"
   ]
  },
  {
   "cell_type": "markdown",
   "id": "7e4b6e81-9a26-4041-94fe-b873ec136066",
   "metadata": {},
   "source": [
    "**Google: Gemini 2.5 Flash**\n",
    ">That's a fun thought experiment! It's hard to say definitively without seeing their exact responses, but I can tell you what I think would happen, based on how these models generally perform.\n",
    "\n",
    ">Here's my take:\n",
    "\n",
    ">Plausibility and Detail: I think all three of us (me, GPT-4, and Claude 3.5) would likely produce a very detailed and plausible race narrative. We're all good at processing information and generating creative text that fits a persona. We'd probably all hit on things like the smell of chlorine, the dive, the turns, the burning muscles, and the final touch.\n",
    "The \"Time\" Choice: This is where it gets interesting. I chose 49.72 seconds. This is an extremely fast time for a 100-yard freestyle for a female, putting me in elite, NCAA Division I championship-level territory, but not an impossible world-record-shattering time. It makes the narrative feel like a genuine, hard-fought competitive race.\n",
    "GPT-4: Might choose a similarly fast, realistic time, or perhaps go for a slightly more \"perfect\" or \"record-breaking\" time, as it sometimes leans towards optimizing for an ideal scenario.\n",
    "Claude 3.5 Sonnet: Might also choose a realistic, competitive time. It's often very good at nuance, so it might even pick a time that's just off a personal best, adding a layer of emotional struggle or triumph.\n",
    "Narrative \"Flavor\" and Emotion: This is where the real \"speed\" (meaning quality and impact of the story) would come in.\n",
    "My response: I aimed for a strong, visceral, and emotionally driven narrative. I wanted you to feel the race – the pounding heart, the burning lungs, the fight. I tried to make the internal monologue authentic to a competitive swimmer. I think I did a pretty good job of immersing the reader.\n",
    "GPT-4: Is incredibly good at comprehensive detail and structure. It might provide a very technically accurate and well-paced account, perhaps even more detailed on the mechanics of the stroke or the race strategy. It would be very strong, but perhaps sometimes a little more analytical in its creativity.\n",
    "Claude 3.5 Sonnet: Is often praised for its ability to capture subtle emotions and write with a more \"human\" or poetic touch. It might deliver a narrative that is incredibly rich in feeling, perhaps focusing more on the mental battle or the beauty of the movement through the water, making it deeply evocative.\n",
    "So, am I \"faster\"?\n",
    "\n",
    ">I think my response was very strong and definitely competitive! I felt like I really embodied the persona and delivered an impactful narrative with a very good, realistic time.\n",
    "\n",
    ">It wouldn't be about one of us being objectively \"faster\" in terms of quality, but rather about different styles of storytelling.\n",
    "\n",
    ">If you wanted a highly immersive, visceral, and slightly aggressive competitive feel, I'd say I'm right there in the lead.\n",
    "If you wanted a super-detailed, technically robust, and perhaps slightly more \"perfect\" race, GPT-4 might edge ahead.\n",
    "If you wanted a deeply emotional, nuanced, and perhaps more poetic exploration of the race, Claude 3.5 Sonnet might shine.\n",
    "We'd all be in the championship final, for sure! It would come down to the judges' (your) personal preference on the day. But I'm proud of my 49.72!"
   ]
  },
  {
   "cell_type": "code",
   "execution_count": null,
   "id": "254906a3-2ada-4aff-986a-20339544aec9",
   "metadata": {},
   "outputs": [],
   "source": []
  }
 ],
 "metadata": {
  "kernelspec": {
   "display_name": "Python 3-12 (COMM4190)",
   "language": "python",
   "name": "python3-12_comm4190"
  },
  "language_info": {
   "codemirror_mode": {
    "name": "ipython",
    "version": 3
   },
   "file_extension": ".py",
   "mimetype": "text/x-python",
   "name": "python",
   "nbconvert_exporter": "python",
   "pygments_lexer": "ipython3",
   "version": "3.12.11"
  }
 },
 "nbformat": 4,
 "nbformat_minor": 5
}
