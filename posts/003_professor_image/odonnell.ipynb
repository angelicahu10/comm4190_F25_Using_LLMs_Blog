{
 "cells": [
  {
   "cell_type": "markdown",
   "id": "5bdd725f-fcff-404e-b6bd-92ff58477149",
   "metadata": {},
   "source": [
    "---\n",
    "title: \"Testing Image Analysis\"\n",
    "description: \"Feel Better Professor O'Donnell!\"\n",
    "author: \"Angelica\"\n",
    "date: 9/9/2025\n",
    "categories:\n",
    "- LLMs\n",
    "- Prompting\n",
    "---"
   ]
  },
  {
   "cell_type": "markdown",
   "id": "353cfca8-9d41-40ab-8587-70272b4143d8",
   "metadata": {},
   "source": [
    "<img src=\"imageanalysis.jpg\" width=\"50%\"/>"
   ]
  },
  {
   "cell_type": "markdown",
   "id": "a436b6d5-9cfb-49f9-a78e-083bb1c03774",
   "metadata": {},
   "source": [
    "I hope you are feeling better Professor O'Donnell when you read this and are recovering well! I tried some different prompts running the below pic which was provided on Canvas through the image-to-text API call in Jupyterhub. I was surprised to find some of the different responses that were output depending on which model the image was run through. "
   ]
  },
  {
   "cell_type": "markdown",
   "id": "fccdee04-2665-4a3c-a74d-2e4e6b81faf7",
   "metadata": {},
   "source": [
    "<img src=\"test_image.jpg\" width=\"50%\"/>"
   ]
  },
  {
   "cell_type": "markdown",
   "id": "245578d7-13e9-4d10-abe2-1555478103b5",
   "metadata": {},
   "source": [
    "## The Prompt: \"Describe this image.\""
   ]
  },
  {
   "cell_type": "markdown",
   "id": "5ade13e8-0045-432e-9e22-62f8f215fe54",
   "metadata": {},
   "source": [
    "### Responses:\n",
    "\n",
    "* gpt 4.0: \"The image shows a person wearing a neck brace and looking at the camera. They have some visible injuries on their face, including cuts and bruises. Their right hand is bandaged, and they are holding it up with three fingers extended. The background appears to be indoors with a door and some light coming through.\"\n",
    "\n",
    "* anthropic/claude-3.5-sonnet: \"This appears to be a selfie taken from a low angle, showing someone wearing what looks like a VR headset or similar head-mounted device. The person is wearing a light-colored shirt and appears to have some substance or marks on their face. There's also what appears to be a hand with a cloth or towel visible in the upper right corner of the image. The photo seems to be taken indoors, with a light-colored wall or ceiling visible in the background.\"\n",
    "\n",
    "* Google: Gemini 2.5 Flash: \"This image is a close-up, selfie-style portrait of an adult male who appears to have recently sustained injuries. The man is looking directly at the camera with a neutral expression. His face shows several signs of injury: there are visible scrapes and scabs on his forehead, particularly above his left eyebrow. His nose has noticeable bruising and scabbing. His lips appear swollen, and there are dark scabs or stitches visible on his lower lip and chin area.\n",
    "He is wearing a white and grey cervical collar or neck brace around his neck. His right hand is raised into the upper right portion of the frame, and it is wrapped in a white, textured bandage or gauze, with his fingers slightly spread. He is wearing a light pink t-shirt, and a dark green design resembling pine trees is visible on the lower left side of the shirt. The background is an indoor setting with light-colored (beige/off-white) walls. To the right, part of a white door frame and a window are visible, through which bright natural light is entering. A small, light-colored sensor is attached to the top of the door frame. The ceiling is also visible at the top of the frame.\""
   ]
  },
  {
   "cell_type": "code",
   "execution_count": null,
   "id": "99422b0a-bdad-4da3-a72d-cb7b12e56d8e",
   "metadata": {},
   "outputs": [],
   "source": []
  },
  {
   "cell_type": "code",
   "execution_count": null,
   "id": "6d3b3040-82cb-44f3-b5cb-ebbffcec42d0",
   "metadata": {},
   "outputs": [],
   "source": []
  }
 ],
 "metadata": {
  "kernelspec": {
   "display_name": "Python 3-12 (COMM4190)",
   "language": "python",
   "name": "python3-12_comm4190"
  },
  "language_info": {
   "codemirror_mode": {
    "name": "ipython",
    "version": 3
   },
   "file_extension": ".py",
   "mimetype": "text/x-python",
   "name": "python",
   "nbconvert_exporter": "python",
   "pygments_lexer": "ipython3",
   "version": "3.12.11"
  }
 },
 "nbformat": 4,
 "nbformat_minor": 5
}
