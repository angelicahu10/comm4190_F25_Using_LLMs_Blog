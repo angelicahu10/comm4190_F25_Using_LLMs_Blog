{
 "cells": [
  {
   "cell_type": "markdown",
   "id": "29487c32-381d-49b2-a57f-58c28cdcc435",
   "metadata": {},
   "source": [
    "---\n",
    "title: \"Unmasking: Unmasking AI\"\n",
    "description: \"Inside Joy Buolamwini's Great Mind\"\n",
    "author: \"Angelica\"\n",
    "date: \"9/18/2025\"\n",
    "categories:\n",
    "  - LLMs\n",
    "  - Prompting\n",
    "  - Logic\n",
    "  - Living With a Book: Unmasking AI\n",
    "---"
   ]
  },
  {
   "cell_type": "markdown",
   "id": "dbcec710-92f4-44af-8624-d89f93136d31",
   "metadata": {},
   "source": [
    "<img src='unmasking.jpg' width='50%'/>"
   ]
  },
  {
   "cell_type": "code",
   "execution_count": null,
   "id": "c870d70f-ca15-4cad-a3ff-2e290b74fa00",
   "metadata": {},
   "outputs": [],
   "source": []
  }
 ],
 "metadata": {
  "kernelspec": {
   "display_name": "Python 3-12 (COMM4190)",
   "language": "python",
   "name": "python3-12_comm4190"
  },
  "language_info": {
   "codemirror_mode": {
    "name": "ipython",
    "version": 3
   },
   "file_extension": ".py",
   "mimetype": "text/x-python",
   "name": "python",
   "nbconvert_exporter": "python",
   "pygments_lexer": "ipython3",
   "version": "3.12.11"
  }
 },
 "nbformat": 4,
 "nbformat_minor": 5
}
