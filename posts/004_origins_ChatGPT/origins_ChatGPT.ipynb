{
 "cells": [
  {
   "cell_type": "markdown",
   "id": "cdad11f1-4e6c-447b-92a6-6434589a814e",
   "metadata": {},
   "source": [
    "---\n",
    "title: \"The Birth of ChatGPT\"\n",
    "description: \"How did we get here?\"\n",
    "author: \"Angelica\"\n",
    "date: \"9/15/2025\"\n",
    "categories:\n",
    "  - LLMs\n",
    "  - Prompting\n",
    "  - Logic\n",
    "---"
   ]
  },
  {
   "cell_type": "markdown",
   "id": "fc3c061f-099a-4c37-9b3d-d1fb9e2eb642",
   "metadata": {},
   "source": [
    "<img src=\"chat.jpeg\" width=\"50%\"/>"
   ]
  },
  {
   "cell_type": "markdown",
   "id": "93baf91f-7e44-4f0e-8184-c57b5f154a96",
   "metadata": {},
   "source": [
    "# The Origin of ChatGPT - Art of the Problem"
   ]
  },
  {
   "cell_type": "markdown",
   "id": "6b3f168d-72a8-4f86-974c-8bf9d04ccdf4",
   "metadata": {},
   "source": [
    "## Video Notes\n",
    "* siloed networks model intuition only, not reasoning -> must train machines to talk\n",
    "* learned sequences were generalized\n",
    "* system spatially organizes words based on meaning of words\n",
    "* feeding the output back into the input with a short prompt, following a pathway of thought\n",
    "* recurrent neural networks that become much larger systems to increase percision and predictability\n",
    "* transformers = takes context around it to change its meanings\n",
    "* zero shot learning\n",
    "* making the network contiues to make it speak less giberrish and increased performance\n",
    "* in context learning\n",
    "* core in weight learning = during training\n",
    "* in context learning = in use or inference\n",
    "* LLMs should not be considered a chatbot or word generator, rtaher a kernal process of an operating system\n",
    "* neural networks allow deep learning and for AI to make connections and draw predictions"
   ]
  },
  {
   "cell_type": "code",
   "execution_count": 58,
   "id": "b578105b-f0f2-4f81-8a4a-0e3bc649886a",
   "metadata": {},
   "outputs": [],
   "source": [
    "from openai import OpenAI\n",
    "import os\n",
    "import base64\n",
    "import requests\n",
    "\n",
    "from dotenv import load_dotenv\n",
    "# Load API key\n",
    "_ = load_dotenv()"
   ]
  },
  {
   "cell_type": "code",
   "execution_count": 59,
   "id": "f430ce0e-abef-40fe-9dab-f78130df857e",
   "metadata": {},
   "outputs": [],
   "source": [
    "def encode_image(image_path):\n",
    "  with open(image_path, \"rb\") as image_file:\n",
    "    return base64.b64encode(image_file.read()).decode('utf-8')"
   ]
  },
  {
   "cell_type": "code",
   "execution_count": 60,
   "id": "24b330de-8d6a-437d-850f-388bce781e4f",
   "metadata": {},
   "outputs": [],
   "source": [
    " client = OpenAI()"
   ]
  },
  {
   "cell_type": "code",
   "execution_count": 70,
   "id": "0bf11ede-ce62-47e4-8368-13787da61c02",
   "metadata": {},
   "outputs": [],
   "source": [
    "prompt1 = '''\n",
    "\n",
    "Tell me about how you were created, or the origins of ChatGPT!\n",
    "\n",
    "'''\n",
    "\n",
    "prompt2 = '''\n",
    "\n",
    "Tell me about how you were created, or the origins of ChatGPT in simple terms, to someone who is not familar with technical terms.\n",
    "\n",
    "'''"
   ]
  },
  {
   "cell_type": "code",
   "execution_count": 71,
   "id": "93c0c207-7250-4c11-8de3-1b66fb94fa5f",
   "metadata": {},
   "outputs": [],
   "source": [
    " messages=[\n",
    "            {\n",
    "                \"role\": \"system\",\n",
    "                \"content\": \"You are a helpful assistant.\"\n",
    "            },\n",
    "            {\n",
    "                \"role\": \"user\",\n",
    "                \"content\": prompt\n",
    "            }\n",
    "        ]"
   ]
  },
  {
   "cell_type": "code",
   "execution_count": 72,
   "id": "cb699915-c8c3-4be6-b998-844b4f3256c3",
   "metadata": {},
   "outputs": [],
   "source": [
    "def generate_story(prompt1, model=\"gpt-4o\"):\n",
    "\n",
    "    completion = client.chat.completions.create(\n",
    "      model=model,\n",
    "      messages=[\n",
    "        {\"role\": \"system\", \n",
    "         \"content\": \"You are a helpful AI assistant.\"},\n",
    "        {\"role\": \"user\", \n",
    "         \"content\": prompt1}\n",
    "      ]\n",
    "    )\n",
    "    \n",
    "    response = completion.choices[0].message.content\n",
    "    return response"
   ]
  },
  {
   "cell_type": "code",
   "execution_count": 73,
   "id": "223a3c92-17f2-4dc6-955b-b26df1511399",
   "metadata": {},
   "outputs": [
    {
     "data": {
      "text/plain": [
       "'ChatGPT, like many AI language models, is based on the GPT (Generative Pre-trained Transformer) architecture, developed by OpenAI. The creation of GPT models involves several key components and milestones:\\n\\n1. **Transformer Architecture**: The foundation of GPT models is the transformer architecture, which was introduced in the 2017 paper \"Attention is All You Need\" by Vaswani et al. This architecture uses attention mechanisms that allow the model to weigh the importance of different words in a sentence when making predictions, which enables more efficient processing of large datasets and capture of contextual relationships.\\n\\n2. **Pre-training and Fine-tuning**: GPT models are developed through a two-step process: pre-training and fine-tuning. In the pre-training phase, the model is trained on a large corpus of text from the internet to predict the next word in a sentence, learning grammar, facts about the world, and some reasoning abilities. During fine-tuning, the model is adjusted for specific tasks (e.g., conversation), using a narrower dataset with human annotations to align the model’s behavior with specific goals.\\n\\n3. **GPT Series**: The evolution of GPT models began with GPT-1, released in 2018, which had 117 million parameters. OpenAI then released GPT-2 in 2019, notable for its size (1.5 billion parameters) and improved language understanding capabilities. GPT-3 followed in 2020, making a significant leap with 175 billion parameters, allowing for even more nuanced text generation and greater performance across a range of tasks.\\n\\n4. **ChatGPT**: Building on the advances of GPT-3 and its predecessors, ChatGPT was developed to generate interactive, conversational text. OpenAI applied reinforcement learning from human feedback (RLHF) to improve the model\\'s ability to follow instructions and provide meaningful, context-rich responses in a conversational format.\\n\\n5. **Iterative Improvements and Public Use**: OpenAI has continued to iterate on GPT models, incorporating feedback from public use to improve safety, reduce bias, and enhance capabilities. Subsequent updates and versions have further refined the system’s performance and user experience.\\n\\nOverall, the creation of ChatGPT involved advances in machine learning, natural language processing, and AI ethics, with the aim of building powerful and adaptable language models for various applications.'"
      ]
     },
     "execution_count": 73,
     "metadata": {},
     "output_type": "execute_result"
    }
   ],
   "source": [
    "generate_story(prompt1, model=\"gpt-4o\")"
   ]
  },
  {
   "cell_type": "code",
   "execution_count": 74,
   "id": "5ae6d012-30ae-4de4-a089-a94d2094b233",
   "metadata": {},
   "outputs": [],
   "source": [
    " messages=[\n",
    "            {\n",
    "                \"role\": \"system\",\n",
    "                \"content\": \"You are a helpful assistant.\"\n",
    "            },\n",
    "            {\n",
    "                \"role\": \"user\",\n",
    "                \"content\": prompt2\n",
    "            }\n",
    "        ]"
   ]
  },
  {
   "cell_type": "code",
   "execution_count": 75,
   "id": "ff925b1f-e634-4996-81ad-618a1fd9fc7c",
   "metadata": {},
   "outputs": [],
   "source": [
    "def generate_story(prompt2, model=\"gpt-4o\"):\n",
    "\n",
    "    completion = client.chat.completions.create(\n",
    "      model=model,\n",
    "      messages=[\n",
    "        {\"role\": \"system\", \n",
    "         \"content\": \"You are a helpful AI assistant.\"},\n",
    "        {\"role\": \"user\", \n",
    "         \"content\": prompt2}\n",
    "      ]\n",
    "    )\n",
    "    \n",
    "    response = completion.choices[0].message.content\n",
    "    return response"
   ]
  },
  {
   "cell_type": "code",
   "execution_count": 76,
   "id": "b080878b-5f08-45dc-9b5c-d09624313325",
   "metadata": {},
   "outputs": [
    {
     "data": {
      "text/plain": [
       "'Sure! ChatGPT is a type of computer program designed to have conversations with people, like a virtual assistant.\\n\\nThe origins of ChatGPT can be traced back to the development of AI, or artificial intelligence, which is the idea of creating machines that can perform tasks that usually require human intelligence. To make ChatGPT, researchers and engineers used advanced technology and a lot of data to teach the program how to understand and respond to human language.\\n\\nThey created a special kind of program called a \"language model.\" This model was trained on a vast amount of text—from books, websites, and other sources—so it could learn how people use language. In simple terms, it learned from examples of human language how to predict and generate text that makes sense in a conversation.\\n\\nThe goal was to create a helpful tool that could understand questions and provide useful answers, like having a conversation with a knowledgeable friend. Over time, the technology has improved, making ChatGPT better at understanding context and providing more accurate responses.\\n\\nThe team behind ChatGPT is continually working on refining and improving it, so it gets better at helping people with their questions and needs over time.'"
      ]
     },
     "execution_count": 76,
     "metadata": {},
     "output_type": "execute_result"
    }
   ],
   "source": [
    "generate_story(prompt2, model=\"gpt-4o\")"
   ]
  },
  {
   "cell_type": "code",
   "execution_count": null,
   "id": "25d5cd02-cfc2-4101-b775-59ff3f8504f1",
   "metadata": {},
   "outputs": [],
   "source": []
  }
 ],
 "metadata": {
  "kernelspec": {
   "display_name": "Python 3-12 (COMM4190)",
   "language": "python",
   "name": "python3-12_comm4190"
  },
  "language_info": {
   "codemirror_mode": {
    "name": "ipython",
    "version": 3
   },
   "file_extension": ".py",
   "mimetype": "text/x-python",
   "name": "python",
   "nbconvert_exporter": "python",
   "pygments_lexer": "ipython3",
   "version": "3.12.11"
  }
 },
 "nbformat": 4,
 "nbformat_minor": 5
}
