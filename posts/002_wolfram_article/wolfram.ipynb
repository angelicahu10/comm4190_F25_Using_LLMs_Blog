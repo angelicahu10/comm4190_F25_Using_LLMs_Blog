{
 "cells": [
  {
   "cell_type": "markdown",
   "id": "ece972fc-b47b-4f60-a075-4da2a9f8afa7",
   "metadata": {},
   "source": [
    "---\n",
    "title: \"The Wolfram Article\"\n",
    "description: \"Takeaways and Observations\"\n",
    "author: \"Angelica\"\n",
    "date: 9/3/2025\n",
    "categories:\n",
    "  - LLMs\n",
    "---"
   ]
  },
  {
   "cell_type": "markdown",
   "id": "890643bf-2404-47ed-a1d9-d33896c1cd82",
   "metadata": {},
   "source": [
    "##"
   ]
  },
  {
   "cell_type": "markdown",
   "id": "5068aaaa-aecd-4598-a65c-b3cfe84c151f",
   "metadata": {},
   "source": [
    "<img src=\"image.jpeg\" width=\"80%\">"
   ]
  },
  {
   "cell_type": "markdown",
   "id": "024b32a0-a9d0-462d-87aa-f21635572b6a",
   "metadata": {},
   "source": [
    "The way that LLMs basically create output is with \"reasonable continuation,\" looking at the response with the highest probability. I think it's super interesting to learn that ChatGpt or other models are basically just making their best guesses at what makes sense, using lots of randomness to come up with non-flat responses. There's an infinite combination of possible sequences with no correct answer. It was super cool to see how the next word that is outputted is based on the previous word, which then becomes sequences. I found it much easier to understand this complex process when breaking it down from letters, to words, to sentences. "
   ]
  },
  {
   "cell_type": "markdown",
   "id": "f0d8900e-704b-44fc-af32-7ac940c64a6b",
   "metadata": {},
   "source": [
    "<img src=\"screenshot.png\" width=\"80%\">"
   ]
  },
  {
   "cell_type": "markdown",
   "id": "295346cf-3515-4845-9f32-3f3486e53552",
   "metadata": {},
   "source": [
    "I tried to follow the coding in my Jupyter notebook but learned that the code in the article followed Mathematica/Wolfram syntax instead of Python syntax. I'm interested to learn what differentiates the two, and how to convert them to work with certin models."
   ]
  },
  {
   "cell_type": "markdown",
   "id": "cc38c8f0-3f41-41e9-81d8-91fa049f7c63",
   "metadata": {},
   "source": [
    "I was also surprised to learn that there are 40,000 reasonably common words in English. While I know English is a vast language, I had never given it much thought how many words I typically use on a daily basis or the words used in conversation!"
   ]
  },
  {
   "cell_type": "code",
   "execution_count": null,
   "id": "4f72d843-2896-46ee-b21b-55f71fdcb1d0",
   "metadata": {},
   "outputs": [],
   "source": []
  }
 ],
 "metadata": {
  "kernelspec": {
   "display_name": "Python 3-12 (COMM4190)",
   "language": "python",
   "name": "python3-12_comm4190"
  },
  "language_info": {
   "codemirror_mode": {
    "name": "ipython",
    "version": 3
   },
   "file_extension": ".py",
   "mimetype": "text/x-python",
   "name": "python",
   "nbconvert_exporter": "python",
   "pygments_lexer": "ipython3",
   "version": "3.12.11"
  }
 },
 "nbformat": 4,
 "nbformat_minor": 5
}
