{
 "cells": [
  {
   "cell_type": "markdown",
   "id": "00ec9589-b613-4bd8-ac48-a1304535f6b9",
   "metadata": {},
   "source": [
    "---\n",
    "title: \"My First Blog Post!\"\n",
    "description: \"Get to Know Me\" \n",
    "author: \"Angelica\"\n",
    "date: \"9/3/2025\"\n",
    "categories:\n",
    "  - Family\n",
    "  - Academics\n",
    "  - Interests\n",
    "---"
   ]
  },
  {
   "cell_type": "markdown",
   "id": "bdccea8f-a3c3-45ca-b5a5-7bb7bedafda7",
   "metadata": {},
   "source": [
    "Hello! My name is Angelica and this first blog post is going to be getting to know a little bit about me while I explore how to use this platform! My experience with data science/coding comes from PHYS1100: Foundations of Data Science, which I took last semester as well as some other coding experience I did in high school."
   ]
  },
  {
   "cell_type": "markdown",
   "id": "31092458-fffd-43cd-97c3-ace4ea7cdc52",
   "metadata": {},
   "source": [
    "## My Family"
   ]
  },
  {
   "cell_type": "markdown",
   "id": "516121ce-f8b4-4215-aa5c-50fd085fcbec",
   "metadata": {},
   "source": [
    "My parents are from China, but me and my two older sisters were born here which makes us second generation. My older sisters both live in New York City now after graduating from college. This photo is from June from my middle sister's college graduation in Evanston, Illinois. I loveee Chicago!"
   ]
  },
  {
   "cell_type": "markdown",
   "id": "6fc0a0a7-5642-4697-a152-75d232f4207a",
   "metadata": {},
   "source": [
    "We also have a dog named Minnie! She's a goldendoodle and turning 11 this year. I miss her a lot!"
   ]
  },
  {
   "cell_type": "markdown",
   "id": "b2330e03-4748-49b4-a8de-b24dc9586083",
   "metadata": {},
   "source": [
    "\n",
    "<img src=\"family.JPG\" width=\"50%\"/>"
   ]
  },
  {
   "cell_type": "markdown",
   "id": "06ae003a-c8b5-495b-b50e-ce9ab3b9f2ae",
   "metadata": {},
   "source": [
    "<img src=\"minnie.kpg\" width=\"50%\">"
   ]
  },
  {
   "cell_type": "markdown",
   "id": "7496b20c-82d8-481a-a729-f1892503bf21",
   "metadata": {},
   "source": [
    "## Academics"
   ]
  },
  {
   "cell_type": "markdown",
   "id": "1b4e8020-4987-4813-bf63-15263405092a",
   "metadata": {},
   "source": [
    "Here at Penn, I'm studying Health and Societies with a concentration in Healthcare Markets and Finance and a minor in Data Science and Analytics. I hope to explore the healthcare system and work towards fixing health disparities and improve access and quality, perhaps through healthcare data analytics!"
   ]
  },
  {
   "cell_type": "markdown",
   "id": "4183b8f7-5b4b-476a-b963-4ffbfcce4b6e",
   "metadata": {},
   "source": [
    "## Interests"
   ]
  },
  {
   "cell_type": "markdown",
   "id": "dc0228fb-4752-420c-917b-62f1b9162bc5",
   "metadata": {},
   "source": [
    "I love competitive swimming as I've swam my whole life. I also am a big foodie and love trying new resturants! My favorite shows are Friends, How I Met Your Mother, funny sit coms like that. I'm super excited to learm more about LLMs and AI in this class!"
   ]
  },
  {
   "cell_type": "code",
   "execution_count": null,
   "id": "f4fac479-0d8d-44b3-bcd3-31ce3dcf59fd",
   "metadata": {},
   "outputs": [],
   "source": []
  }
 ],
 "metadata": {
  "kernelspec": {
   "display_name": "Python 3-12 (COMM4190)",
   "language": "python",
   "name": "python3-12_comm4190"
  },
  "language_info": {
   "codemirror_mode": {
    "name": "ipython",
    "version": 3
   },
   "file_extension": ".py",
   "mimetype": "text/x-python",
   "name": "python",
   "nbconvert_exporter": "python",
   "pygments_lexer": "ipython3",
   "version": "3.12.11"
  }
 },
 "nbformat": 4,
 "nbformat_minor": 5
}
