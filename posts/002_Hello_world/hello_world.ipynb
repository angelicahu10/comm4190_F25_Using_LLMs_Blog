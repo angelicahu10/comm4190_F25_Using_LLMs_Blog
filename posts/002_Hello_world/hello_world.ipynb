{
 "cells": [
  {
   "cell_type": "markdown",
   "id": "00ec9589-b613-4bd8-ac48-a1304535f6b9",
   "metadata": {},
   "source": [
    "---\n",
    "title: \"Angelica's daily blogging journal\"\n",
    "description: \"sharing thoughts in my life\" \n",
    "author: \"Angelica\"\n",
    "date: \"8/31/2025\"\n",
    "categories:\n",
    "  - LLMs\n",
    "  - Testing this blog\n",
    "---"
   ]
  },
  {
   "cell_type": "code",
   "execution_count": 2,
   "id": "52028511-2475-42a7-97fb-21d4981b6fdd",
   "metadata": {},
   "outputs": [
    {
     "name": "stdout",
     "output_type": "stream",
     "text": [
      "hello! this is my first line of code.\n"
     ]
    }
   ],
   "source": [
    "print('hello! this is my first line of code.')"
   ]
  },
  {
   "cell_type": "code",
   "execution_count": null,
   "id": "aa1707f7-6805-420d-a9f2-7400781cd2e8",
   "metadata": {},
   "outputs": [],
   "source": []
  }
 ],
 "metadata": {
  "kernelspec": {
   "display_name": "Python 3-12 (COMM4190)",
   "language": "python",
   "name": "python3-12_comm4190"
  },
  "language_info": {
   "codemirror_mode": {
    "name": "ipython",
    "version": 3
   },
   "file_extension": ".py",
   "mimetype": "text/x-python",
   "name": "python",
   "nbconvert_exporter": "python",
   "pygments_lexer": "ipython3",
   "version": "3.12.11"
  }
 },
 "nbformat": 4,
 "nbformat_minor": 5
}
