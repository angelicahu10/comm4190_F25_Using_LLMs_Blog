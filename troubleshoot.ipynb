{
 "cells": [
  {
   "cell_type": "code",
   "execution_count": 2,
   "id": "e5233a42-2a51-49c8-8bc5-2894d419cd6a",
   "metadata": {},
   "outputs": [
    {
     "name": "stdout",
     "output_type": "stream",
     "text": [
      "./.ipynb_checkpoints/about-checkpoint.qmd:4:about:\n",
      "./about.qmd:4:about:\n"
     ]
    }
   ],
   "source": [
    "!grep -Rn --include=\"*.qmd\" \"about:\" ."
   ]
  },
  {
   "cell_type": "code",
   "execution_count": 4,
   "id": "abd472b7-f398-4dff-af08-762b4bf4f5b5",
   "metadata": {},
   "outputs": [
    {
     "name": "stdout",
     "output_type": "stream",
     "text": [
      "     1\t---\n",
      "     2\ttitle: \"About\"\n",
      "     3\timage: profile.jpg\n",
      "     4\tabout:\n",
      "     5\t  template: jolla\n",
      "     6\t---\n",
      "     7\t\n",
      "     8\tHi! My name is Angelica and I'm a current sophomore at the University of Pennsylvania studying Health & Societies, concentrating in Healthcare Markets and Finance. I'm also minoring in Neuroscience & Healthcare Management, and Data Science and Analytics.\n",
      "     9\t\n",
      "    10\tAngelica Hu\n",
      "     1\t---\n",
      "     2\ttitle: About\n",
      "     3\timage: profile.jpg\n",
      "     4\tabout:\n",
      "     5\t  template: jolla\n",
      "     6\t---\n",
      "     7\t\n",
      "     8\tAbout this blog\n"
     ]
    }
   ],
   "source": [
    "!nl -ba about.qmd | sed -n '1,40p'\n",
    "!nl -ba ./.ipynb_checkpoints/about-checkpoint.qmd | sed -n '1,40p'"
   ]
  },
  {
   "cell_type": "code",
   "execution_count": 5,
   "id": "da427263-74df-4ba2-bfcd-0a605f996764",
   "metadata": {},
   "outputs": [],
   "source": [
    "!rm -rf ./.ipynb_checkpoints"
   ]
  },
  {
   "cell_type": "code",
   "execution_count": 6,
   "id": "4cc95ffc-b4fb-4028-9fe6-dae5ba7f6d0f",
   "metadata": {},
   "outputs": [],
   "source": [
    "!printf \".ipynb_checkpoints/\\n\" > .quartoignore\n",
    "!printf \"\\n.ipynb_checkpoints/\\n\" >> .gitignore"
   ]
  },
  {
   "cell_type": "code",
   "execution_count": 7,
   "id": "69c0a3f0-db86-41e4-846d-b61a807d892b",
   "metadata": {},
   "outputs": [],
   "source": [
    "!rm -rf ./_site\n",
    "!rm -rf ./.quarto"
   ]
  },
  {
   "cell_type": "code",
   "execution_count": 9,
   "id": "deba332f-25e9-4cef-92ae-318e92870742",
   "metadata": {},
   "outputs": [],
   "source": [
    "!grep -Rn --include=\"*.qmd\" --include=\"*.yml\" --include=\"*.yaml\" '^about:\\s\\S' . || true"
   ]
  },
  {
   "cell_type": "code",
   "execution_count": 11,
   "id": "a30be8f2-3a6f-4df8-aae0-050f4f6ae815",
   "metadata": {},
   "outputs": [],
   "source": [
    "!grep -RnP '\\t' --include=\"*.qmd\" --include=\"*.yml\" --include=\"*.yaml\" . || true"
   ]
  },
  {
   "cell_type": "code",
   "execution_count": 12,
   "id": "348ab8ff-6d3f-4241-8e57-a211dd60affc",
   "metadata": {},
   "outputs": [
    {
     "name": "stdout",
     "output_type": "stream",
     "text": [
      "[main 67675f1] Clean checkpoints, ignore them; clear Quarto cache; confirm about: mapping\n",
      " 4 files changed, 58 insertions(+), 1 deletion(-)\n",
      " create mode 100644 .quartoignore\n",
      " create mode 100644 troubleshoot.ipynb\n",
      "Enumerating objects: 9, done.\n",
      "Counting objects: 100% (9/9), done.\n",
      "Delta compression using up to 16 threads\n",
      "Compressing objects: 100% (5/5), done.\n",
      "Writing objects: 100% (6/6), 1.04 KiB | 355.00 KiB/s, done.\n",
      "Total 6 (delta 3), reused 0 (delta 0), pack-reused 0\n",
      "remote: Resolving deltas: 100% (3/3), completed with 3 local objects.\u001b[K\n",
      "To https://github.com/angelicahu10/comm4190_F25_Using_LLMs_Blog.git\n",
      "   17eeece..67675f1  main -> main\n"
     ]
    }
   ],
   "source": [
    "!git add -A\n",
    "!git commit -m \"Clean checkpoints, ignore them; clear Quarto cache; confirm about: mapping\"\n",
    "!git push"
   ]
  },
  {
   "cell_type": "code",
   "execution_count": null,
   "id": "4ae8364c-18cb-4106-9c0e-3b95d09b6720",
   "metadata": {},
   "outputs": [],
   "source": []
  }
 ],
 "metadata": {
  "kernelspec": {
   "display_name": "Python 3-12 (COMM4190)",
   "language": "python",
   "name": "python3-12_comm4190"
  },
  "language_info": {
   "codemirror_mode": {
    "name": "ipython",
    "version": 3
   },
   "file_extension": ".py",
   "mimetype": "text/x-python",
   "name": "python",
   "nbconvert_exporter": "python",
   "pygments_lexer": "ipython3",
   "version": "3.12.11"
  }
 },
 "nbformat": 4,
 "nbformat_minor": 5
}
