{
 "cells": [
  {
   "cell_type": "code",
   "execution_count": 2,
   "id": "e5233a42-2a51-49c8-8bc5-2894d419cd6a",
   "metadata": {},
   "outputs": [
    {
     "name": "stdout",
     "output_type": "stream",
     "text": [
      "./.ipynb_checkpoints/about-checkpoint.qmd:4:about:\n",
      "./about.qmd:4:about:\n"
     ]
    }
   ],
   "source": [
    "!grep -Rn --include=\"*.qmd\" \"about:\" ."
   ]
  },
  {
   "cell_type": "code",
   "execution_count": null,
   "id": "abd472b7-f398-4dff-af08-762b4bf4f5b5",
   "metadata": {},
   "outputs": [],
   "source": []
  }
 ],
 "metadata": {
  "kernelspec": {
   "display_name": "Python 3-12 (COMM4190)",
   "language": "python",
   "name": "python3-12_comm4190"
  },
  "language_info": {
   "codemirror_mode": {
    "name": "ipython",
    "version": 3
   },
   "file_extension": ".py",
   "mimetype": "text/x-python",
   "name": "python",
   "nbconvert_exporter": "python",
   "pygments_lexer": "ipython3",
   "version": "3.12.11"
  }
 },
 "nbformat": 4,
 "nbformat_minor": 5
}
